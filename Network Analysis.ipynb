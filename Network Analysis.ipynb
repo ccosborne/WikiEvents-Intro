{
 "cells": [
  {
   "cell_type": "code",
   "execution_count": null,
   "metadata": {},
   "outputs": [],
   "source": [
    "#Python Script for Network Analysis\n",
    "\n",
    "#1: Summarise Ego and then remove from network\n",
    "#2: Network Structure Analysis and export DF\n",
    "#3: Network Centrality Analysis and add to DF"
   ]
  },
  {
   "cell_type": "code",
   "execution_count": 28,
   "metadata": {},
   "outputs": [
    {
     "name": "stdout",
     "output_type": "stream",
     "text": [
      "Populating the interactive namespace from numpy and matplotlib\n"
     ]
    },
    {
     "name": "stderr",
     "output_type": "stream",
     "text": [
      "/Users/solveighosborne/anaconda3/lib/python3.7/site-packages/IPython/core/magics/pylab.py:160: UserWarning: pylab import has clobbered these variables: ['plot']\n",
      "`%matplotlib` prevents importing * from pylab and numpy\n",
      "  \"\\n`%matplotlib` prevents importing * from pylab and numpy\"\n"
     ]
    }
   ],
   "source": [
    "#Import Packages\n",
    "import networkx as nx\n",
    "import pandas as pd\n",
    "import numpy as np\n",
    "import matplotlib.pyplot as plt\n",
    "import seaborn as sns\n",
    "import pickle\n",
    "import os\n",
    "import requests\n",
    "import collections\n",
    "sns.set()\n",
    "%pylab inline"
   ]
  },
  {
   "cell_type": "code",
   "execution_count": 29,
   "metadata": {},
   "outputs": [],
   "source": [
    "#Set Language\n",
    "lang = 'en'"
   ]
  },
  {
   "cell_type": "code",
   "execution_count": 30,
   "metadata": {},
   "outputs": [],
   "source": [
    "#IMPORT DATA\n",
    "os.chdir('path')\n",
    "DF = pd.read_csv('%s_edgelist.csv' %lang)\n",
    "NET = nx.from_pandas_edgelist(DF, create_using=nx.DiGraph())"
   ]
  },
  {
   "cell_type": "code",
   "execution_count": 31,
   "metadata": {},
   "outputs": [],
   "source": [
    "#Summary Statistics of the EGO\n",
    "art = 'World War II'\n",
    "#art = 'Zweiter Weltkrieg'\n",
    "\n",
    "print('\\nDegree of EGO')\n",
    "deg = NET.degree()\n",
    "print(deg[art])\n",
    "\n",
    "print('\\nIn-Degree of EGO')\n",
    "indeg = NET.in_degree()\n",
    "print(indeg[art])\n",
    "\n",
    "print('\\nOut-Degree of EGO')\n",
    "outdeg = NET.out_degree()\n",
    "print(outdeg[art])\n",
    "\n",
    "#Network Structure Analysis with EGO\n",
    "print(nx.info(NET))"
   ]
  },
  {
   "cell_type": "code",
   "execution_count": 32,
   "metadata": {},
   "outputs": [
    {
     "name": "stdout",
     "output_type": "stream",
     "text": [
      "\n",
      "Can confirm: have removed Ego from Edgelist.\n",
      "Name: \n",
      "Type: DiGraph\n",
      "Number of nodes: 163008\n",
      "Number of edges: 7196039\n",
      "Average in degree:  44.1453\n",
      "Average out degree:  44.1453\n"
     ]
    }
   ],
   "source": [
    "# Remove EGO article from NETWORK\n",
    "NET.remove_node(art)\n",
    "print('\\nCan confirm: have removed Ego from Edgelist.')\n",
    "\n",
    "#Network Structure Analysis\n",
    "print(nx.info(NET))"
   ]
  },
  {
   "cell_type": "code",
   "execution_count": 10,
   "metadata": {},
   "outputs": [],
   "source": [
    "# Examine Degree Distribution\n",
    "net_ego = pd.DataFrame(index=list(NET.nodes))\n",
    "net_ego[\"In-Degree\"] = pd.Series(dict(nx.in_degree_centrality(NET)))\n",
    "net_ego[\"PageRank\"] = pd.Series(dict(nx.pagerank(NET)))"
   ]
  },
  {
   "cell_type": "code",
   "execution_count": 33,
   "metadata": {},
   "outputs": [
    {
     "data": {
      "image/png": "[encoded data removed]",
      "text/plain": [
       "<Figure size 432x288 with 1 Axes>"
      ]
     },
     "metadata": {
      "needs_background": "light"
     },
     "output_type": "display_data"
    }
   ],
   "source": [
    "deg_sequence = sorted([d for n, d in NET.degree()], reverse=True)\n",
    "fig, ax = plt.subplots()\n",
    "sns.distplot(deg_sequence, kde=False, rug=False).set_title('Degree Distribution of EN Network')\n",
    "plt.ylabel(\"Count\")\n",
    "plt.xlabel(\"Degree\")\n",
    "plt.tight_layout() \n",
    "ax.set_xscale('log')\n",
    "ax.set_yscale('log')\n",
    "plt.savefig('EN_NET_DEGDIST.png')"
   ]
  },
  {
   "cell_type": "code",
   "execution_count": null,
   "metadata": {},
   "outputs": [],
   "source": [
    "#Network Structure Analysis\n",
    "print('Self-loops:',NET.number_of_selfloops(),'\\n')\n",
    "density = nx.density(NET)\n",
    "print('\\nDensity', density)\n",
    "\n",
    "num_nodes = nx.number_of_nodes(NET)\n",
    "num_edges = nx.number_of_edges(NET)\n",
    "avdeg = num_edges / num_nodes\n",
    "print('Average Degree', avdeg)\n",
    "\n",
    "clust = nx.average_clustering(NET)\n",
    "print('Clustering', clust)\n",
    "\n",
    "recip = nx.reciprocity(NET)\n",
    "print('Recipricoity Directed Graph',recip)\n",
    "\n",
    "print('\\nCount of Weakly Connected Components:')\n",
    "num_nodes_wego = nx.number_of_nodes(NET)\n",
    "wcego_count = 0\n",
    "for c in nx.weakly_connected_components(NET): \n",
    "    wcego_count += 1\n",
    "print(wcego_count)\n",
    "print(\"\\nPrinting values in Components (if >50%, then GC)\")\n",
    "for i in [c for c in nx.weakly_connected_components(NET) if len(c) > 1]: print(len(i)) \n",
    "\n",
    "print('\\nCount of Strongly Connected Components:')\n",
    "num_nodes_sego = nx.number_of_nodes(NET)\n",
    "scego_count = 0\n",
    "for c in nx.strongly_connected_components(NET): \n",
    "    scego_count += 1\n",
    "print(scego_count)\n",
    "print(\"\\nPrinting values in Components (if >50%, then GC)\")\n",
    "for i in [c for c in nx.strongly_connected_components(NET) if len(c) > 1]: print(len(i)) "
   ]
  },
  {
   "cell_type": "code",
   "execution_count": null,
   "metadata": {},
   "outputs": [],
   "source": [
    "# Get percentage of nodes in largest weak and strong components. If more thn 50%, then giant component.\n",
    "\n",
    "# % in WC, adjust number\n",
    "pc_lc = X/num_nodes #replace X with number of nodes in component\n",
    "print(\"{:.2%}\".format(pc_lc))\n",
    "\n",
    "# % in SC, adjust number\n",
    "pc_slc = X/num_nodes #replace X with number of nodes in component\n",
    "print(\"{:.2%}\".format(pc_slc))"
   ]
  },
  {
   "cell_type": "code",
   "execution_count": null,
   "metadata": {},
   "outputs": [],
   "source": [
    "#Pickle Dataframe for later\n",
    "summary = {'Lang':[lang],\n",
    "          'Nodes': [num_nodes],\n",
    "          'Edges': [num_edges],\n",
    "          'Av. Degree': [avdeg],\n",
    "          'Density': [density],\n",
    "          'Clustering': [clust],\n",
    "          'Reciprocity': [recip],\n",
    "          'Weak Components': [wc_count],\n",
    "          'Giant Weak Component (%)': [pc_lc],\n",
    "          'Strong Components':[sc_count],\n",
    "          'Giant Strong Component (%)': [pc_slc]\n",
    "          }\n",
    "\n",
    "Summary = pd.DataFrame.from_dict(summary)\n",
    "Summary = Summary.round({'Nodes': 0, \n",
    "                         'Edges': 0, \n",
    "                         'Av. Degree':0,\n",
    "                         'Density':4,\n",
    "                         'Clustering':4,\n",
    "                         'Reciprocity':4, \n",
    "                         'Weak Components':0,\n",
    "                         'Giant Weak Component (%)':3,\n",
    "                         'Strong Components':0,\n",
    "                         'Giant Strong Component (%)':3                       \n",
    "                        })\n",
    "\n",
    "display(Summary)"
   ]
  },
  {
   "cell_type": "code",
   "execution_count": null,
   "metadata": {},
   "outputs": [],
   "source": [
    "os.chdir('path')\n",
    "\n",
    "#export net table\n",
    "Summary.to_csv('%s_NetSummary.csv'%lang, encoding='utf_8_sig')"
   ]
  },
  {
   "cell_type": "code",
   "execution_count": null,
   "metadata": {},
   "outputs": [],
   "source": [
    "#ANALYSE CENTRALITIES"
   ]
  },
  {
   "cell_type": "code",
   "execution_count": null,
   "metadata": {},
   "outputs": [],
   "source": [
    "#Import nodelist\n",
    "lang = 'en'\n",
    "nodes = pd.DataFrame(index=list(NET.nodes))\n",
    "nodes[\"In-Degree\"] = pd.Series(dict(nx.in_degree_centrality(NET)))\n",
    "nodes[\"PageRank\"] = pd.Series(dict(nx.pagerank(NET)))\n",
    "nodes.columns = ['Article', 'In-Degree','PageRank']\n",
    "nodes = nodes.set_index('Article')\n",
    "display(nodes.head())\n",
    "\n",
    "#Save node list with centrality scores\n",
    "nodes = pd.read_csv('en_nodelist.csv')"
   ]
  },
  {
   "cell_type": "code",
   "execution_count": null,
   "metadata": {},
   "outputs": [],
   "source": [
    "#Rank node lists by PageRank\n",
    "ranked_PR = nodes.sort_values(by='PageRank', ascending=False)\n",
    "display(ranked_PR)\n",
    "\n",
    "#Save to CSV\n",
    "ranked_PR.to_csv('%s_rankedPageRank.csv' %lang, encoding='utf_8_sig')"
   ]
  },
  {
   "cell_type": "code",
   "execution_count": null,
   "metadata": {},
   "outputs": [],
   "source": [
    "#Rank node lists by In-Degree\n",
    "ranked_ID = nodes.sort_values(by='In-Degree', ascending=False)\n",
    "display(ranked_ID)\n",
    "\n",
    "#Save to CSV\n",
    "ranked_ID.to_csv('%s_rankedInDegree.csv' %lang, encoding='utf_8_sig')"
   ]
  }
 ],
 "metadata": {
  "kernelspec": {
   "display_name": "Python 3",
   "language": "python",
   "name": "python3"
  },
  "language_info": {
   "codemirror_mode": {
    "name": "ipython",
    "version": 3
   },
   "file_extension": ".py",
   "mimetype": "text/x-python",
   "name": "python",
   "nbconvert_exporter": "python",
   "pygments_lexer": "ipython3",
   "version": "3.7.1"
  }
 },
 "nbformat": 4,
 "nbformat_minor": 2
}
